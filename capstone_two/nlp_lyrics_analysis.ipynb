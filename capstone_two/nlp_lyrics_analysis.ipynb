{
 "cells": [
  {
   "cell_type": "code",
   "execution_count": 1,
   "metadata": {},
   "outputs": [],
   "source": [
    "import sqlalchemy\n",
    "import pandas as pd\n",
    "from sqlalchemy import text, select"
   ]
  },
  {
   "cell_type": "code",
   "execution_count": 2,
   "metadata": {},
   "outputs": [],
   "source": [
    "from sqlalchemy import create_engine, Table, Column\n",
    "from sqlalchemy import Integer, String, Text, MetaData\n",
    "\n",
    "engine = create_engine('sqlite:///lyrics.db', echo=False)\n",
    "\n",
    "meta = MetaData()\n",
    "\n",
    "artists = Table('artists', meta,\n",
    "                Column('artist', String, primary_key=True),\n",
    "                Column('artist_url', String))\n",
    "\n",
    "lyrics = Table('lyrics', meta,\n",
    "               Column('artist', String),\n",
    "               Column('song_title', String),\n",
    "               Column('year', Integer),\n",
    "               Column('song_url', String, primary_key=True),\n",
    "               Column('lyrics', Text))\n",
    "\n",
    "genres = Table('genre', meta,\n",
    "               Column('id', Integer, primary_key=True, autoincrement=True),\n",
    "               Column('song_url', String),\n",
    "               Column('genre', String))\n",
    "\n",
    "styles = Table('style', meta,\n",
    "               Column('id', Integer, primary_key=True, autoincrement=True),\n",
    "               Column('song_url', String),\n",
    "               Column('style', String))\n",
    "\n",
    "if __name__ == '__main__':\n",
    "    meta.create_all(engine)\n"
   ]
  },
  {
   "cell_type": "code",
   "execution_count": 3,
   "metadata": {},
   "outputs": [],
   "source": [
    "conn = engine.connect()"
   ]
  },
  {
   "cell_type": "code",
   "execution_count": 4,
   "metadata": {},
   "outputs": [],
   "source": [
    "query = text('SELECT * FROM lyrics')\n",
    "artists = conn.execute(query).fetchall()\n",
    "data = pd.DataFrame(artists)\n",
    "data.columns = ['artist', 'song', 'year', 'url', 'lyric']\n",
    "data = data.drop(labels='url', axis=1)"
   ]
  },
  {
   "cell_type": "code",
   "execution_count": 5,
   "metadata": {},
   "outputs": [
    {
     "data": {
      "text/html": [
       "<div>\n",
       "<style scoped>\n",
       "    .dataframe tbody tr th:only-of-type {\n",
       "        vertical-align: middle;\n",
       "    }\n",
       "\n",
       "    .dataframe tbody tr th {\n",
       "        vertical-align: top;\n",
       "    }\n",
       "\n",
       "    .dataframe thead th {\n",
       "        text-align: right;\n",
       "    }\n",
       "</style>\n",
       "<table border=\"1\" class=\"dataframe\">\n",
       "  <thead>\n",
       "    <tr style=\"text-align: right;\">\n",
       "      <th></th>\n",
       "      <th>artist</th>\n",
       "      <th>song</th>\n",
       "      <th>year</th>\n",
       "      <th>lyric</th>\n",
       "    </tr>\n",
       "  </thead>\n",
       "  <tbody>\n",
       "    <tr>\n",
       "      <th>0</th>\n",
       "      <td>A B</td>\n",
       "      <td>Con el Tic Tac del Reloj</td>\n",
       "      <td>2000.0</td>\n",
       "      <td>Era tan facil soÃ±ar\\r\\nQue te podias quedar\\r...</td>\n",
       "    </tr>\n",
       "    <tr>\n",
       "      <th>1</th>\n",
       "      <td>A Band Called \"O\"</td>\n",
       "      <td>Sleeping</td>\n",
       "      <td>1975.0</td>\n",
       "      <td>None</td>\n",
       "    </tr>\n",
       "    <tr>\n",
       "      <th>2</th>\n",
       "      <td>A Band Called \"O\"</td>\n",
       "      <td>Take Your Time</td>\n",
       "      <td>1975.0</td>\n",
       "      <td>None</td>\n",
       "    </tr>\n",
       "    <tr>\n",
       "      <th>3</th>\n",
       "      <td>A Band Called David</td>\n",
       "      <td>Another Try</td>\n",
       "      <td>1977.0</td>\n",
       "      <td>None</td>\n",
       "    </tr>\n",
       "    <tr>\n",
       "      <th>4</th>\n",
       "      <td>A Band Called David</td>\n",
       "      <td>Just the Same</td>\n",
       "      <td>1977.0</td>\n",
       "      <td>None</td>\n",
       "    </tr>\n",
       "  </tbody>\n",
       "</table>\n",
       "</div>"
      ],
      "text/plain": [
       "                artist                      song    year  \\\n",
       "0                  A B  Con el Tic Tac del Reloj  2000.0   \n",
       "1    A Band Called \"O\"                  Sleeping  1975.0   \n",
       "2    A Band Called \"O\"            Take Your Time  1975.0   \n",
       "3  A Band Called David               Another Try  1977.0   \n",
       "4  A Band Called David             Just the Same  1977.0   \n",
       "\n",
       "                                               lyric  \n",
       "0  Era tan facil soÃ±ar\\r\\nQue te podias quedar\\r...  \n",
       "1                                               None  \n",
       "2                                               None  \n",
       "3                                               None  \n",
       "4                                               None  "
      ]
     },
     "execution_count": 5,
     "metadata": {},
     "output_type": "execute_result"
    }
   ],
   "source": [
    "data.head()"
   ]
  },
  {
   "cell_type": "code",
   "execution_count": 6,
   "metadata": {},
   "outputs": [
    {
     "data": {
      "text/plain": [
       "1250843"
      ]
     },
     "execution_count": 6,
     "metadata": {},
     "output_type": "execute_result"
    }
   ],
   "source": [
    "len(data)"
   ]
  },
  {
   "cell_type": "code",
   "execution_count": 7,
   "metadata": {},
   "outputs": [
    {
     "data": {
      "text/plain": [
       "116773"
      ]
     },
     "execution_count": 7,
     "metadata": {},
     "output_type": "execute_result"
    }
   ],
   "source": [
    "len(data.artist.unique())"
   ]
  },
  {
   "cell_type": "code",
   "execution_count": 8,
   "metadata": {},
   "outputs": [
    {
     "data": {
      "text/plain": [
       "NO LYRICS FOUND                                       15574\n",
       "St. Louis Blues                                        1018\n",
       "Body and Soul                                          1014\n",
       "Stardust                                                990\n",
       "Over the Rainbow                                        954\n",
       "Intro                                                   951\n",
       "Have Yourself a Merry Little Christmas                  901\n",
       "Embraceable You                                         780\n",
       "The Nearness of You                                     633\n",
       "Skylark                                                 614\n",
       "After You've Gone                                       606\n",
       "O Little Town of Bethlehem                              602\n",
       "My Foolish Heart                                        595\n",
       "In a Sentimental Mood                                   593\n",
       "Laura                                                   593\n",
       "I'll Remember April                                     577\n",
       "You Don't Know What Love Is                             571\n",
       "Here's That Rainy Day                                   570\n",
       "Caravan                                                 567\n",
       "Danny Boy                                               565\n",
       "But Not for Me                                          561\n",
       "Speak Low                                               557\n",
       "The Little Drummer Boy                                  556\n",
       "On the Sunny Side of the Street                         555\n",
       "Ain't Misbehavin'                                       540\n",
       "Santa Claus Is Coming to Town                           539\n",
       "How High the Moon                                       536\n",
       "Blue Moon                                               521\n",
       "Love Is Here to Stay                                    519\n",
       "How Deep Is the Ocean?                                  517\n",
       "These Foolish Things                                    512\n",
       "Silent Night                                            508\n",
       "Mood Indigo                                             502\n",
       "You'd Be So Nice to Come Home To                        483\n",
       "Oh, Lady Be Good                                        482\n",
       "I've Got You Under My Skin                              481\n",
       "White Christmas                                         479\n",
       "Where or When                                           473\n",
       "The Christmas Song                                      470\n",
       "Bye Bye Blackbird                                       469\n",
       "My One and Only Love                                    463\n",
       "Someone to Watch Over Me                                449\n",
       "It Might as Well Be Spring                              446\n",
       "Begin the Beguine                                       445\n",
       "It Came Upon a Midnight Clear                           443\n",
       "I Can't Give You Anything But Love                      442\n",
       "Prelude to a Kiss                                       441\n",
       "Let It Snow! Let It Snow! Let It Snow!                  440\n",
       "It Don't Mean a Thing (If It Ain't Got That Swing)      440\n",
       "But Beautiful                                           434\n",
       "Name: song, dtype: int64"
      ]
     },
     "execution_count": 8,
     "metadata": {},
     "output_type": "execute_result"
    }
   ],
   "source": [
    "data.song.value_counts().head(50)"
   ]
  },
  {
   "cell_type": "code",
   "execution_count": 9,
   "metadata": {},
   "outputs": [],
   "source": [
    "stl_blues = data[data.song == 'St. Louis Blues']"
   ]
  },
  {
   "cell_type": "code",
   "execution_count": 10,
   "metadata": {},
   "outputs": [
    {
     "data": {
      "text/html": [
       "<div>\n",
       "<style scoped>\n",
       "    .dataframe tbody tr th:only-of-type {\n",
       "        vertical-align: middle;\n",
       "    }\n",
       "\n",
       "    .dataframe tbody tr th {\n",
       "        vertical-align: top;\n",
       "    }\n",
       "\n",
       "    .dataframe thead th {\n",
       "        text-align: right;\n",
       "    }\n",
       "</style>\n",
       "<table border=\"1\" class=\"dataframe\">\n",
       "  <thead>\n",
       "    <tr style=\"text-align: right;\">\n",
       "      <th></th>\n",
       "      <th>artist</th>\n",
       "      <th>song</th>\n",
       "      <th>year</th>\n",
       "      <th>lyric</th>\n",
       "    </tr>\n",
       "  </thead>\n",
       "  <tbody>\n",
       "    <tr>\n",
       "      <th>694232</th>\n",
       "      <td>Louis Armstrong &amp; His Orchestra</td>\n",
       "      <td>St. Louis Blues</td>\n",
       "      <td>1934.0</td>\n",
       "      <td>None</td>\n",
       "    </tr>\n",
       "    <tr>\n",
       "      <th>767002</th>\n",
       "      <td>Miff Mole</td>\n",
       "      <td>St. Louis Blues</td>\n",
       "      <td>1944.0</td>\n",
       "      <td>None</td>\n",
       "    </tr>\n",
       "    <tr>\n",
       "      <th>305119</th>\n",
       "      <td>Don Byas</td>\n",
       "      <td>St. Louis Blues</td>\n",
       "      <td>1949.0</td>\n",
       "      <td>None</td>\n",
       "    </tr>\n",
       "    <tr>\n",
       "      <th>992360</th>\n",
       "      <td>Sidney Bechet</td>\n",
       "      <td>St. Louis Blues</td>\n",
       "      <td>1950.0</td>\n",
       "      <td>None</td>\n",
       "    </tr>\n",
       "    <tr>\n",
       "      <th>18501</th>\n",
       "      <td>Albert Ammons</td>\n",
       "      <td>St. Louis Blues</td>\n",
       "      <td>1950.0</td>\n",
       "      <td>None</td>\n",
       "    </tr>\n",
       "    <tr>\n",
       "      <th>...</th>\n",
       "      <td>...</td>\n",
       "      <td>...</td>\n",
       "      <td>...</td>\n",
       "      <td>...</td>\n",
       "    </tr>\n",
       "    <tr>\n",
       "      <th>944790</th>\n",
       "      <td>Roscoe Holcomb</td>\n",
       "      <td>St. Louis Blues</td>\n",
       "      <td>NaN</td>\n",
       "      <td>None</td>\n",
       "    </tr>\n",
       "    <tr>\n",
       "      <th>973660</th>\n",
       "      <td>Scott Hamilton</td>\n",
       "      <td>St. Louis Blues</td>\n",
       "      <td>NaN</td>\n",
       "      <td>None</td>\n",
       "    </tr>\n",
       "    <tr>\n",
       "      <th>1047489</th>\n",
       "      <td>Syd Lawrence Orchestra</td>\n",
       "      <td>St. Louis Blues</td>\n",
       "      <td>NaN</td>\n",
       "      <td>None</td>\n",
       "    </tr>\n",
       "    <tr>\n",
       "      <th>1114872</th>\n",
       "      <td>The Metronome All-Stars</td>\n",
       "      <td>St. Louis Blues</td>\n",
       "      <td>NaN</td>\n",
       "      <td>None</td>\n",
       "    </tr>\n",
       "    <tr>\n",
       "      <th>1209428</th>\n",
       "      <td>W.C. Handy Orchestra</td>\n",
       "      <td>St. Louis Blues</td>\n",
       "      <td>NaN</td>\n",
       "      <td>None</td>\n",
       "    </tr>\n",
       "  </tbody>\n",
       "</table>\n",
       "<p>1018 rows × 4 columns</p>\n",
       "</div>"
      ],
      "text/plain": [
       "                                  artist             song    year lyric\n",
       "694232   Louis Armstrong & His Orchestra  St. Louis Blues  1934.0  None\n",
       "767002                         Miff Mole  St. Louis Blues  1944.0  None\n",
       "305119                          Don Byas  St. Louis Blues  1949.0  None\n",
       "992360                     Sidney Bechet  St. Louis Blues  1950.0  None\n",
       "18501                      Albert Ammons  St. Louis Blues  1950.0  None\n",
       "...                                  ...              ...     ...   ...\n",
       "944790                    Roscoe Holcomb  St. Louis Blues     NaN  None\n",
       "973660                    Scott Hamilton  St. Louis Blues     NaN  None\n",
       "1047489           Syd Lawrence Orchestra  St. Louis Blues     NaN  None\n",
       "1114872          The Metronome All-Stars  St. Louis Blues     NaN  None\n",
       "1209428             W.C. Handy Orchestra  St. Louis Blues     NaN  None\n",
       "\n",
       "[1018 rows x 4 columns]"
      ]
     },
     "execution_count": 10,
     "metadata": {},
     "output_type": "execute_result"
    }
   ],
   "source": [
    "stl_blues.sort_values('year')"
   ]
  },
  {
   "cell_type": "code",
   "execution_count": 13,
   "metadata": {},
   "outputs": [
    {
     "data": {
      "text/plain": [
       "<matplotlib.axes._subplots.AxesSubplot at 0x13edea850>"
      ]
     },
     "execution_count": 13,
     "metadata": {},
     "output_type": "execute_result"
    },
    {
     "data": {
      "image/png": "[encoded data removed]",
      "text/plain": [
       "<Figure size 432x288 with 1 Axes>"
      ]
     },
     "metadata": {
      "needs_background": "light"
     },
     "output_type": "display_data"
    }
   ],
   "source": [
    "stl_blues.year.hist(bins=25)"
   ]
  },
  {
   "cell_type": "code",
   "execution_count": 14,
   "metadata": {},
   "outputs": [
    {
     "data": {
      "text/plain": [
       "Elvis Presley         4010\n",
       "Frank Sinatra         3399\n",
       "Bing Crosby           2614\n",
       "Ella Fitzgerald3      2465\n",
       "Johnny Cash           2026\n",
       "The Beach Boys        2001\n",
       "Bob Dylan             1841\n",
       "Louis Armstrong       1794\n",
       "Nat King Cole         1589\n",
       "Dean Martin           1430\n",
       "Billie Holiday        1390\n",
       "The Beatles           1329\n",
       "Jerry Lee Lewis       1277\n",
       "Judy Garland          1274\n",
       "Johnny Hallyday       1251\n",
       "Tony Bennett          1247\n",
       "Edith Piaf            1181\n",
       "George Jones          1175\n",
       "Snoop Dogg            1147\n",
       "David Bowie           1136\n",
       "Grateful Dead         1130\n",
       "Sarah Vaughan         1125\n",
       "Lil Wayne             1053\n",
       "Marvin Gaye           1040\n",
       "Elton John            1032\n",
       "B.B. King             1017\n",
       "Ray Charles           1013\n",
       "James Brown           1002\n",
       "Diana Ross             997\n",
       "Elvis Costello         995\n",
       "Doris Day              994\n",
       "Peggy Lee              958\n",
       "Disney                 950\n",
       "The Kinks              944\n",
       "The Supremes           907\n",
       "The Rolling Stones     902\n",
       "Depeche Mode           897\n",
       "Rod Stewart            895\n",
       "Perry Como             891\n",
       "Aretha Franklin        890\n",
       "Eric Clapton           873\n",
       "Jay-Z                  852\n",
       "Merle Haggard          851\n",
       "Rosemary Clooney       841\n",
       "Duke Ellington         837\n",
       "Kidz Bop Kids          836\n",
       "Dolly Parton           819\n",
       "Mel Tormé              818\n",
       "Michael Jackson        798\n",
       "Hank Williams          779\n",
       "Name: artist, dtype: int64"
      ]
     },
     "execution_count": 14,
     "metadata": {},
     "output_type": "execute_result"
    }
   ],
   "source": [
    "data.artist.value_counts().head(50)"
   ]
  },
  {
   "cell_type": "code",
   "execution_count": 15,
   "metadata": {},
   "outputs": [
    {
     "data": {
      "text/plain": [
       "<matplotlib.axes._subplots.AxesSubplot at 0x13eeb97d0>"
      ]
     },
     "execution_count": 15,
     "metadata": {},
     "output_type": "execute_result"
    },
    {
     "data": {
      "image/png": "[encoded data removed]",
      "text/plain": [
       "<Figure size 432x288 with 1 Axes>"
      ]
     },
     "metadata": {
      "needs_background": "light"
     },
     "output_type": "display_data"
    }
   ],
   "source": [
    "data.artist.value_counts().hist(bins=50)"
   ]
  },
  {
   "cell_type": "code",
   "execution_count": 16,
   "metadata": {},
   "outputs": [],
   "source": [
    "elvis = data[data.artist == 'Elvis Presley']"
   ]
  },
  {
   "cell_type": "code",
   "execution_count": 17,
   "metadata": {},
   "outputs": [
    {
     "data": {
      "text/html": [
       "<div>\n",
       "<style scoped>\n",
       "    .dataframe tbody tr th:only-of-type {\n",
       "        vertical-align: middle;\n",
       "    }\n",
       "\n",
       "    .dataframe tbody tr th {\n",
       "        vertical-align: top;\n",
       "    }\n",
       "\n",
       "    .dataframe thead th {\n",
       "        text-align: right;\n",
       "    }\n",
       "</style>\n",
       "<table border=\"1\" class=\"dataframe\">\n",
       "  <thead>\n",
       "    <tr style=\"text-align: right;\">\n",
       "      <th></th>\n",
       "      <th>artist</th>\n",
       "      <th>song</th>\n",
       "      <th>year</th>\n",
       "      <th>lyric</th>\n",
       "    </tr>\n",
       "  </thead>\n",
       "  <tbody>\n",
       "    <tr>\n",
       "      <th>347612</th>\n",
       "      <td>Elvis Presley</td>\n",
       "      <td>Devoted to You [Stereo Debut]</td>\n",
       "      <td>2019.0</td>\n",
       "      <td>None</td>\n",
       "    </tr>\n",
       "    <tr>\n",
       "      <th>347613</th>\n",
       "      <td>Elvis Presley</td>\n",
       "      <td>Stupid Cupid [Stereo Debut]</td>\n",
       "      <td>2019.0</td>\n",
       "      <td>None</td>\n",
       "    </tr>\n",
       "    <tr>\n",
       "      <th>347614</th>\n",
       "      <td>Elvis Presley</td>\n",
       "      <td>Wake Up Little Susie [Stereo Debut]</td>\n",
       "      <td>2019.0</td>\n",
       "      <td>Wake up, little Susie, wake up\\r\\nWake up, lit...</td>\n",
       "    </tr>\n",
       "    <tr>\n",
       "      <th>347615</th>\n",
       "      <td>Elvis Presley</td>\n",
       "      <td>Wear My Ring Around Your Neck [Stereo Debut]</td>\n",
       "      <td>2019.0</td>\n",
       "      <td>None</td>\n",
       "    </tr>\n",
       "    <tr>\n",
       "      <th>347616</th>\n",
       "      <td>Elvis Presley</td>\n",
       "      <td>Jailhouse Rock [From Jailhouse Rock]</td>\n",
       "      <td>1975.0</td>\n",
       "      <td>The warden threw a party in the county jail\\nT...</td>\n",
       "    </tr>\n",
       "    <tr>\n",
       "      <th>347617</th>\n",
       "      <td>Elvis Presley</td>\n",
       "      <td>Surrender</td>\n",
       "      <td>1960.0</td>\n",
       "      <td>None</td>\n",
       "    </tr>\n",
       "    <tr>\n",
       "      <th>347618</th>\n",
       "      <td>Elvis Presley</td>\n",
       "      <td>Stranger in My Own Home Town</td>\n",
       "      <td>1969.0</td>\n",
       "      <td>None</td>\n",
       "    </tr>\n",
       "    <tr>\n",
       "      <th>347619</th>\n",
       "      <td>Elvis Presley</td>\n",
       "      <td>I Feel So Bad</td>\n",
       "      <td>1961.0</td>\n",
       "      <td>None</td>\n",
       "    </tr>\n",
       "    <tr>\n",
       "      <th>347620</th>\n",
       "      <td>Elvis Presley</td>\n",
       "      <td>Trouble/Guitar Man [Opening] [Live]</td>\n",
       "      <td>2019.0</td>\n",
       "      <td>None</td>\n",
       "    </tr>\n",
       "    <tr>\n",
       "      <th>347621</th>\n",
       "      <td>Elvis Presley</td>\n",
       "      <td>Trouble/Guitar Man</td>\n",
       "      <td>1968.0</td>\n",
       "      <td>If you're looking for trouble\\r\\nYou came to t...</td>\n",
       "    </tr>\n",
       "    <tr>\n",
       "      <th>347622</th>\n",
       "      <td>Elvis Presley</td>\n",
       "      <td>Heartbreak Hotel [First 'Stand-Up' Show]</td>\n",
       "      <td>2019.0</td>\n",
       "      <td>None</td>\n",
       "    </tr>\n",
       "    <tr>\n",
       "      <th>347623</th>\n",
       "      <td>Elvis Presley</td>\n",
       "      <td>Heartbreak Hotel [First \"Stand Up\" Show] [Live]</td>\n",
       "      <td>2019.0</td>\n",
       "      <td>Well, since my baby left me\\r\\nWell, I found a...</td>\n",
       "    </tr>\n",
       "    <tr>\n",
       "      <th>347624</th>\n",
       "      <td>Elvis Presley</td>\n",
       "      <td>All Shook Up [Second \"Stand Up\" Show] [Live]</td>\n",
       "      <td>2019.0</td>\n",
       "      <td>None</td>\n",
       "    </tr>\n",
       "    <tr>\n",
       "      <th>347625</th>\n",
       "      <td>Elvis Presley</td>\n",
       "      <td>All Shook Up [Second 'Sit-Down' Show]</td>\n",
       "      <td>2019.0</td>\n",
       "      <td>None</td>\n",
       "    </tr>\n",
       "    <tr>\n",
       "      <th>347626</th>\n",
       "      <td>Elvis Presley</td>\n",
       "      <td>Can't Help Falling in Love [First 'Stand-Up' S...</td>\n",
       "      <td>2006.0</td>\n",
       "      <td>None</td>\n",
       "    </tr>\n",
       "  </tbody>\n",
       "</table>\n",
       "</div>"
      ],
      "text/plain": [
       "               artist                                               song  \\\n",
       "347612  Elvis Presley                      Devoted to You [Stereo Debut]   \n",
       "347613  Elvis Presley                        Stupid Cupid [Stereo Debut]   \n",
       "347614  Elvis Presley                Wake Up Little Susie [Stereo Debut]   \n",
       "347615  Elvis Presley       Wear My Ring Around Your Neck [Stereo Debut]   \n",
       "347616  Elvis Presley               Jailhouse Rock [From Jailhouse Rock]   \n",
       "347617  Elvis Presley                                          Surrender   \n",
       "347618  Elvis Presley                       Stranger in My Own Home Town   \n",
       "347619  Elvis Presley                                      I Feel So Bad   \n",
       "347620  Elvis Presley                Trouble/Guitar Man [Opening] [Live]   \n",
       "347621  Elvis Presley                                 Trouble/Guitar Man   \n",
       "347622  Elvis Presley           Heartbreak Hotel [First 'Stand-Up' Show]   \n",
       "347623  Elvis Presley    Heartbreak Hotel [First \"Stand Up\" Show] [Live]   \n",
       "347624  Elvis Presley       All Shook Up [Second \"Stand Up\" Show] [Live]   \n",
       "347625  Elvis Presley              All Shook Up [Second 'Sit-Down' Show]   \n",
       "347626  Elvis Presley  Can't Help Falling in Love [First 'Stand-Up' S...   \n",
       "\n",
       "          year                                              lyric  \n",
       "347612  2019.0                                               None  \n",
       "347613  2019.0                                               None  \n",
       "347614  2019.0  Wake up, little Susie, wake up\\r\\nWake up, lit...  \n",
       "347615  2019.0                                               None  \n",
       "347616  1975.0  The warden threw a party in the county jail\\nT...  \n",
       "347617  1960.0                                               None  \n",
       "347618  1969.0                                               None  \n",
       "347619  1961.0                                               None  \n",
       "347620  2019.0                                               None  \n",
       "347621  1968.0  If you're looking for trouble\\r\\nYou came to t...  \n",
       "347622  2019.0                                               None  \n",
       "347623  2019.0  Well, since my baby left me\\r\\nWell, I found a...  \n",
       "347624  2019.0                                               None  \n",
       "347625  2019.0                                               None  \n",
       "347626  2006.0                                               None  "
      ]
     },
     "execution_count": 17,
     "metadata": {},
     "output_type": "execute_result"
    }
   ],
   "source": [
    "elvis.head(15)"
   ]
  },
  {
   "cell_type": "code",
   "execution_count": 18,
   "metadata": {},
   "outputs": [
    {
     "data": {
      "text/plain": [
       "<matplotlib.axes._subplots.AxesSubplot at 0x136dd4810>"
      ]
     },
     "execution_count": 18,
     "metadata": {},
     "output_type": "execute_result"
    },
    {
     "data": {
      "image/png": "[encoded data removed]",
      "text/plain": [
       "<Figure size 432x288 with 1 Axes>"
      ]
     },
     "metadata": {
      "needs_background": "light"
     },
     "output_type": "display_data"
    }
   ],
   "source": [
    "elvis.year.hist(bins=30)"
   ]
  },
  {
   "cell_type": "code",
   "execution_count": null,
   "metadata": {},
   "outputs": [],
   "source": [
    "# Remove bracketed song information\n",
    "# bracket_pattern = \"([^\\[]+)\"\n",
    "# elvis['stripped'] = elvis.song.str.extract(bracket_pattern)\n",
    "# bracket_index = elvis.song.str.match(bracket_pattern)\n",
    "# elvis.loc[bracket_index, 'song'] = elvis.loc[bracket_index, 'stripped']\n",
    "# elvis['song'] = elvis.song.str.strip()\n",
    "# elvis['song'] = elvis.song.str.lower()\n",
    "# elvis.head(15)"
   ]
  },
  {
   "cell_type": "code",
   "execution_count": 19,
   "metadata": {},
   "outputs": [],
   "source": [
    "def clean_data(df):\n",
    "    df.song = df.song.str.replace(r'\\[.*','')\n",
    "    df.song = df.song.str.lower()\n",
    "    df.song = df.song.str.replace(r',','')\n",
    "    df.song = df.song.str.replace('\\.+(\\(.+\\))', '')\n",
    "    df.song = df.song.str.replace('(\\(.+\\))\\.+', '')\n",
    "    df.song = df.song.str.replace(\"'\", '')\n",
    "    df.song = df.song.str.replace(\"’\", '')\n",
    "    df.song = df.song.str.strip()\n",
    "    return df"
   ]
  },
  {
   "cell_type": "code",
   "execution_count": 20,
   "metadata": {},
   "outputs": [
    {
     "name": "stderr",
     "output_type": "stream",
     "text": [
      "/usr/local/lib/python3.7/site-packages/pandas/core/generic.py:5303: SettingWithCopyWarning: \n",
      "A value is trying to be set on a copy of a slice from a DataFrame.\n",
      "Try using .loc[row_indexer,col_indexer] = value instead\n",
      "\n",
      "See the caveats in the documentation: https://pandas.pydata.org/pandas-docs/stable/user_guide/indexing.html#returning-a-view-versus-a-copy\n",
      "  self[name] = value\n"
     ]
    },
    {
     "data": {
      "text/html": [
       "<div>\n",
       "<style scoped>\n",
       "    .dataframe tbody tr th:only-of-type {\n",
       "        vertical-align: middle;\n",
       "    }\n",
       "\n",
       "    .dataframe tbody tr th {\n",
       "        vertical-align: top;\n",
       "    }\n",
       "\n",
       "    .dataframe thead th {\n",
       "        text-align: right;\n",
       "    }\n",
       "</style>\n",
       "<table border=\"1\" class=\"dataframe\">\n",
       "  <thead>\n",
       "    <tr style=\"text-align: right;\">\n",
       "      <th></th>\n",
       "      <th>artist</th>\n",
       "      <th>song</th>\n",
       "      <th>year</th>\n",
       "      <th>lyric</th>\n",
       "    </tr>\n",
       "  </thead>\n",
       "  <tbody>\n",
       "    <tr>\n",
       "      <th>347612</th>\n",
       "      <td>Elvis Presley</td>\n",
       "      <td>devoted to you</td>\n",
       "      <td>2019.0</td>\n",
       "      <td>None</td>\n",
       "    </tr>\n",
       "    <tr>\n",
       "      <th>347613</th>\n",
       "      <td>Elvis Presley</td>\n",
       "      <td>stupid cupid</td>\n",
       "      <td>2019.0</td>\n",
       "      <td>None</td>\n",
       "    </tr>\n",
       "    <tr>\n",
       "      <th>347614</th>\n",
       "      <td>Elvis Presley</td>\n",
       "      <td>wake up little susie</td>\n",
       "      <td>2019.0</td>\n",
       "      <td>Wake up, little Susie, wake up\\r\\nWake up, lit...</td>\n",
       "    </tr>\n",
       "    <tr>\n",
       "      <th>347615</th>\n",
       "      <td>Elvis Presley</td>\n",
       "      <td>wear my ring around your neck</td>\n",
       "      <td>2019.0</td>\n",
       "      <td>None</td>\n",
       "    </tr>\n",
       "    <tr>\n",
       "      <th>347616</th>\n",
       "      <td>Elvis Presley</td>\n",
       "      <td>jailhouse rock</td>\n",
       "      <td>1975.0</td>\n",
       "      <td>The warden threw a party in the county jail\\nT...</td>\n",
       "    </tr>\n",
       "  </tbody>\n",
       "</table>\n",
       "</div>"
      ],
      "text/plain": [
       "               artist                           song    year  \\\n",
       "347612  Elvis Presley                 devoted to you  2019.0   \n",
       "347613  Elvis Presley                   stupid cupid  2019.0   \n",
       "347614  Elvis Presley           wake up little susie  2019.0   \n",
       "347615  Elvis Presley  wear my ring around your neck  2019.0   \n",
       "347616  Elvis Presley                 jailhouse rock  1975.0   \n",
       "\n",
       "                                                    lyric  \n",
       "347612                                               None  \n",
       "347613                                               None  \n",
       "347614  Wake up, little Susie, wake up\\r\\nWake up, lit...  \n",
       "347615                                               None  \n",
       "347616  The warden threw a party in the county jail\\nT...  "
      ]
     },
     "execution_count": 20,
     "metadata": {},
     "output_type": "execute_result"
    }
   ],
   "source": [
    "elvis_clean = clean_data(elvis)\n",
    "elvis_clean.head()"
   ]
  },
  {
   "cell_type": "code",
   "execution_count": 21,
   "metadata": {},
   "outputs": [
    {
     "data": {
      "text/plain": [
       "1317"
      ]
     },
     "execution_count": 21,
     "metadata": {},
     "output_type": "execute_result"
    }
   ],
   "source": [
    "len(elvis.song.unique())"
   ]
  },
  {
   "cell_type": "code",
   "execution_count": 22,
   "metadata": {},
   "outputs": [],
   "source": [
    "test = elvis.groupby(['artist','song']).min()"
   ]
  },
  {
   "cell_type": "code",
   "execution_count": 23,
   "metadata": {},
   "outputs": [
    {
     "data": {
      "text/html": [
       "<div>\n",
       "<style scoped>\n",
       "    .dataframe tbody tr th:only-of-type {\n",
       "        vertical-align: middle;\n",
       "    }\n",
       "\n",
       "    .dataframe tbody tr th {\n",
       "        vertical-align: top;\n",
       "    }\n",
       "\n",
       "    .dataframe thead th {\n",
       "        text-align: right;\n",
       "    }\n",
       "</style>\n",
       "<table border=\"1\" class=\"dataframe\">\n",
       "  <thead>\n",
       "    <tr style=\"text-align: right;\">\n",
       "      <th></th>\n",
       "      <th></th>\n",
       "      <th>year</th>\n",
       "    </tr>\n",
       "    <tr>\n",
       "      <th>artist</th>\n",
       "      <th>song</th>\n",
       "      <th></th>\n",
       "    </tr>\n",
       "  </thead>\n",
       "  <tbody>\n",
       "    <tr>\n",
       "      <th rowspan=\"50\" valign=\"top\">Elvis Presley</th>\n",
       "      <th></th>\n",
       "      <td>2006.0</td>\n",
       "    </tr>\n",
       "    <tr>\n",
       "      <th>(dance with the) guitar man</th>\n",
       "      <td>2015.0</td>\n",
       "    </tr>\n",
       "    <tr>\n",
       "      <th>(im) all shook up</th>\n",
       "      <td>1987.0</td>\n",
       "    </tr>\n",
       "    <tr>\n",
       "      <th>(intro) johnny b. goode</th>\n",
       "      <td>1975.0</td>\n",
       "    </tr>\n",
       "    <tr>\n",
       "      <th>(its a) long lonely highway</th>\n",
       "      <td>1964.0</td>\n",
       "    </tr>\n",
       "    <tr>\n",
       "      <th>(let me be your) teddy bear</th>\n",
       "      <td>1957.0</td>\n",
       "    </tr>\n",
       "    <tr>\n",
       "      <th>(let me be your)teddy bear</th>\n",
       "      <td>2012.0</td>\n",
       "    </tr>\n",
       "    <tr>\n",
       "      <th>(lets have a) party</th>\n",
       "      <td>2000.0</td>\n",
       "    </tr>\n",
       "    <tr>\n",
       "      <th>(maries the name of) his latest flame</th>\n",
       "      <td>1964.0</td>\n",
       "    </tr>\n",
       "    <tr>\n",
       "      <th>(maries the name) his latest flame</th>\n",
       "      <td>1960.0</td>\n",
       "    </tr>\n",
       "    <tr>\n",
       "      <th>(now and then theres) a fool such as i</th>\n",
       "      <td>1959.0</td>\n",
       "    </tr>\n",
       "    <tr>\n",
       "      <th>(such an) easy question</th>\n",
       "      <td>1962.0</td>\n",
       "    </tr>\n",
       "    <tr>\n",
       "      <th>(thats what you get) for lovin me</th>\n",
       "      <td>1978.0</td>\n",
       "    </tr>\n",
       "    <tr>\n",
       "      <th>(there will be) peace in the valley (for me)</th>\n",
       "      <td>2012.0</td>\n",
       "    </tr>\n",
       "    <tr>\n",
       "      <th>(therell be) peace in the valley</th>\n",
       "      <td>1957.0</td>\n",
       "    </tr>\n",
       "    <tr>\n",
       "      <th>(therell be) peace in the valley (for me)</th>\n",
       "      <td>1960.0</td>\n",
       "    </tr>\n",
       "    <tr>\n",
       "      <th>(theres) good rockin tonight</th>\n",
       "      <td>2010.0</td>\n",
       "    </tr>\n",
       "    <tr>\n",
       "      <th>(theres) no room to rhumba in a sports car</th>\n",
       "      <td>1963.0</td>\n",
       "    </tr>\n",
       "    <tr>\n",
       "      <th>(therll be) peace in the valley</th>\n",
       "      <td>1971.0</td>\n",
       "    </tr>\n",
       "    <tr>\n",
       "      <th>(youre so square) baby i dont care</th>\n",
       "      <td>1959.0</td>\n",
       "    </tr>\n",
       "    <tr>\n",
       "      <th>(youre so square) baby i dont care</th>\n",
       "      <td>2016.0</td>\n",
       "    </tr>\n",
       "    <tr>\n",
       "      <th>(youre the) devil in disguise</th>\n",
       "      <td>1968.0</td>\n",
       "    </tr>\n",
       "    <tr>\n",
       "      <th>8. ive lost you</th>\n",
       "      <td>2016.0</td>\n",
       "    </tr>\n",
       "    <tr>\n",
       "      <th>a big hunk o love</th>\n",
       "      <td>1959.0</td>\n",
       "    </tr>\n",
       "    <tr>\n",
       "      <th>a big hunk o love (loop)</th>\n",
       "      <td>2007.0</td>\n",
       "    </tr>\n",
       "    <tr>\n",
       "      <th>a big hunk olove</th>\n",
       "      <td>2001.0</td>\n",
       "    </tr>\n",
       "    <tr>\n",
       "      <th>a boy like me a girl like you</th>\n",
       "      <td>1962.0</td>\n",
       "    </tr>\n",
       "    <tr>\n",
       "      <th>a cane and a high starched collar</th>\n",
       "      <td>1969.0</td>\n",
       "    </tr>\n",
       "    <tr>\n",
       "      <th>a dogs life</th>\n",
       "      <td>1966.0</td>\n",
       "    </tr>\n",
       "    <tr>\n",
       "      <th>a fool such as i</th>\n",
       "      <td>1978.0</td>\n",
       "    </tr>\n",
       "    <tr>\n",
       "      <th>a fool such as i (now and then theres)</th>\n",
       "      <td>2008.0</td>\n",
       "    </tr>\n",
       "    <tr>\n",
       "      <th>a fool such as i (now and then)</th>\n",
       "      <td>2000.0</td>\n",
       "    </tr>\n",
       "    <tr>\n",
       "      <th>a house that has everything</th>\n",
       "      <td>1967.0</td>\n",
       "    </tr>\n",
       "    <tr>\n",
       "      <th>a hundred years from now</th>\n",
       "      <td>1971.0</td>\n",
       "    </tr>\n",
       "    <tr>\n",
       "      <th>a litte less conversation</th>\n",
       "      <td>2002.0</td>\n",
       "    </tr>\n",
       "    <tr>\n",
       "      <th>a little bit of green</th>\n",
       "      <td>1969.0</td>\n",
       "    </tr>\n",
       "    <tr>\n",
       "      <th>a little less conversation</th>\n",
       "      <td>1970.0</td>\n",
       "    </tr>\n",
       "    <tr>\n",
       "      <th>a little less conversation (junkie xl remix)</th>\n",
       "      <td>2010.0</td>\n",
       "    </tr>\n",
       "    <tr>\n",
       "      <th>a little less conversations</th>\n",
       "      <td>2001.0</td>\n",
       "    </tr>\n",
       "    <tr>\n",
       "      <th>a little less coversation</th>\n",
       "      <td>2006.0</td>\n",
       "    </tr>\n",
       "    <tr>\n",
       "      <th>a mess of blues</th>\n",
       "      <td>1960.0</td>\n",
       "    </tr>\n",
       "    <tr>\n",
       "      <th>a thing called love</th>\n",
       "      <td>1972.0</td>\n",
       "    </tr>\n",
       "    <tr>\n",
       "      <th>a whistling tune</th>\n",
       "      <td>1962.0</td>\n",
       "    </tr>\n",
       "    <tr>\n",
       "      <th>a world of our own</th>\n",
       "      <td>1963.0</td>\n",
       "    </tr>\n",
       "    <tr>\n",
       "      <th>adam and evil</th>\n",
       "      <td>1966.0</td>\n",
       "    </tr>\n",
       "    <tr>\n",
       "      <th>after loving you</th>\n",
       "      <td>1969.0</td>\n",
       "    </tr>\n",
       "    <tr>\n",
       "      <th>aint that lovin you baby</th>\n",
       "      <td>2014.0</td>\n",
       "    </tr>\n",
       "    <tr>\n",
       "      <th>aint that loving you baby</th>\n",
       "      <td>1968.0</td>\n",
       "    </tr>\n",
       "    <tr>\n",
       "      <th>all i needed was the rain</th>\n",
       "      <td>1969.0</td>\n",
       "    </tr>\n",
       "    <tr>\n",
       "      <th>all shook up</th>\n",
       "      <td>1957.0</td>\n",
       "    </tr>\n",
       "  </tbody>\n",
       "</table>\n",
       "</div>"
      ],
      "text/plain": [
       "                                                              year\n",
       "artist        song                                                \n",
       "Elvis Presley                                               2006.0\n",
       "              (dance with the) guitar man                   2015.0\n",
       "              (im) all shook up                             1987.0\n",
       "              (intro) johnny b. goode                       1975.0\n",
       "              (its a) long lonely highway                   1964.0\n",
       "              (let me be your) teddy bear                   1957.0\n",
       "              (let me be your)teddy bear                    2012.0\n",
       "              (lets have a) party                           2000.0\n",
       "              (maries the name of) his latest flame         1964.0\n",
       "              (maries the name) his latest flame            1960.0\n",
       "              (now and then theres) a fool such as i        1959.0\n",
       "              (such an) easy question                       1962.0\n",
       "              (thats what you get) for lovin me             1978.0\n",
       "              (there will be) peace in the valley (for me)  2012.0\n",
       "              (therell be) peace in the valley              1957.0\n",
       "              (therell be) peace in the valley (for me)     1960.0\n",
       "              (theres) good rockin tonight                  2010.0\n",
       "              (theres) no room to rhumba in a sports car    1963.0\n",
       "              (therll be) peace in the valley               1971.0\n",
       "              (youre so square) baby i dont care            1959.0\n",
       "              (youre so square) baby i dont care            2016.0\n",
       "              (youre the) devil in disguise                 1968.0\n",
       "              8. ive lost you                               2016.0\n",
       "              a big hunk o love                             1959.0\n",
       "              a big hunk o love (loop)                      2007.0\n",
       "              a big hunk olove                              2001.0\n",
       "              a boy like me a girl like you                 1962.0\n",
       "              a cane and a high starched collar             1969.0\n",
       "              a dogs life                                   1966.0\n",
       "              a fool such as i                              1978.0\n",
       "              a fool such as i (now and then theres)        2008.0\n",
       "              a fool such as i (now and then)               2000.0\n",
       "              a house that has everything                   1967.0\n",
       "              a hundred years from now                      1971.0\n",
       "              a litte less conversation                     2002.0\n",
       "              a little bit of green                         1969.0\n",
       "              a little less conversation                    1970.0\n",
       "              a little less conversation (junkie xl remix)  2010.0\n",
       "              a little less conversations                   2001.0\n",
       "              a little less coversation                     2006.0\n",
       "              a mess of blues                               1960.0\n",
       "              a thing called love                           1972.0\n",
       "              a whistling tune                              1962.0\n",
       "              a world of our own                            1963.0\n",
       "              adam and evil                                 1966.0\n",
       "              after loving you                              1969.0\n",
       "              aint that lovin you baby                      2014.0\n",
       "              aint that loving you baby                     1968.0\n",
       "              all i needed was the rain                     1969.0\n",
       "              all shook up                                  1957.0"
      ]
     },
     "execution_count": 23,
     "metadata": {},
     "output_type": "execute_result"
    }
   ],
   "source": [
    "test.head(50)"
   ]
  },
  {
   "cell_type": "code",
   "execution_count": 24,
   "metadata": {},
   "outputs": [
    {
     "data": {
      "text/html": [
       "<div>\n",
       "<style scoped>\n",
       "    .dataframe tbody tr th:only-of-type {\n",
       "        vertical-align: middle;\n",
       "    }\n",
       "\n",
       "    .dataframe tbody tr th {\n",
       "        vertical-align: top;\n",
       "    }\n",
       "\n",
       "    .dataframe thead th {\n",
       "        text-align: right;\n",
       "    }\n",
       "</style>\n",
       "<table border=\"1\" class=\"dataframe\">\n",
       "  <thead>\n",
       "    <tr style=\"text-align: right;\">\n",
       "      <th></th>\n",
       "      <th>artist</th>\n",
       "      <th>song</th>\n",
       "      <th>year</th>\n",
       "      <th>lyric</th>\n",
       "    </tr>\n",
       "  </thead>\n",
       "  <tbody>\n",
       "    <tr>\n",
       "      <th>0</th>\n",
       "      <td>A B</td>\n",
       "      <td>con el tic tac del reloj</td>\n",
       "      <td>2000.0</td>\n",
       "      <td>Era tan facil soÃ±ar\\r\\nQue te podias quedar\\r...</td>\n",
       "    </tr>\n",
       "    <tr>\n",
       "      <th>1</th>\n",
       "      <td>A Band Called \"O\"</td>\n",
       "      <td>sleeping</td>\n",
       "      <td>1975.0</td>\n",
       "      <td>None</td>\n",
       "    </tr>\n",
       "    <tr>\n",
       "      <th>2</th>\n",
       "      <td>A Band Called \"O\"</td>\n",
       "      <td>take your time</td>\n",
       "      <td>1975.0</td>\n",
       "      <td>None</td>\n",
       "    </tr>\n",
       "    <tr>\n",
       "      <th>3</th>\n",
       "      <td>A Band Called David</td>\n",
       "      <td>another try</td>\n",
       "      <td>1977.0</td>\n",
       "      <td>None</td>\n",
       "    </tr>\n",
       "    <tr>\n",
       "      <th>4</th>\n",
       "      <td>A Band Called David</td>\n",
       "      <td>just the same</td>\n",
       "      <td>1977.0</td>\n",
       "      <td>None</td>\n",
       "    </tr>\n",
       "  </tbody>\n",
       "</table>\n",
       "</div>"
      ],
      "text/plain": [
       "                artist                      song    year  \\\n",
       "0                  A B  con el tic tac del reloj  2000.0   \n",
       "1    A Band Called \"O\"                  sleeping  1975.0   \n",
       "2    A Band Called \"O\"            take your time  1975.0   \n",
       "3  A Band Called David               another try  1977.0   \n",
       "4  A Band Called David             just the same  1977.0   \n",
       "\n",
       "                                               lyric  \n",
       "0  Era tan facil soÃ±ar\\r\\nQue te podias quedar\\r...  \n",
       "1                                               None  \n",
       "2                                               None  \n",
       "3                                               None  \n",
       "4                                               None  "
      ]
     },
     "execution_count": 24,
     "metadata": {},
     "output_type": "execute_result"
    }
   ],
   "source": [
    "data_clean = clean_data(data)\n",
    "data.head()"
   ]
  },
  {
   "cell_type": "code",
   "execution_count": 25,
   "metadata": {},
   "outputs": [
    {
     "data": {
      "text/plain": [
       "375348"
      ]
     },
     "execution_count": 25,
     "metadata": {},
     "output_type": "execute_result"
    }
   ],
   "source": [
    "len(data.song.unique())"
   ]
  },
  {
   "cell_type": "code",
   "execution_count": 26,
   "metadata": {},
   "outputs": [
    {
     "data": {
      "text/plain": [
       "no lyrics found                           15574\n",
       "body and soul                              1243\n",
       "over the rainbow                           1223\n",
       "st. louis blues                            1116\n",
       "stardust                                   1105\n",
       "have yourself a merry little christmas     1072\n",
       "intro                                      1064\n",
       "someone to watch over me                   1036\n",
       "embraceable you                             910\n",
       "but not for me                              781\n",
       "lover come back to me                       723\n",
       "the nearness of you                         704\n",
       "ill remember april                          698\n",
       "after youve gone                            692\n",
       "aint misbehavin                             683\n",
       "love is here to stay                        679\n",
       "how high the moon                           670\n",
       "you dont know what love is                  670\n",
       "o little town of bethlehem                  669\n",
       "santa claus is coming to town               667\n",
       "caravan                                     667\n",
       "oh lady be good                             663\n",
       "in a sentimental mood                       662\n",
       "laura                                       657\n",
       "on the sunny side of the street             651\n",
       "youd be so nice to come home to             650\n",
       "speak low                                   639\n",
       "skylark                                     636\n",
       "my foolish heart                            632\n",
       "danny boy                                   626\n",
       "it might as well be spring                  624\n",
       "heres that rainy day                        618\n",
       "blue moon                                   604\n",
       "how deep is the ocean?                      603\n",
       "ive got you under my skin                   599\n",
       "i cant give you anything but love           582\n",
       "these foolish things                        581\n",
       "begin the beguine                           577\n",
       "where or when                               577\n",
       "the little drummer boy                      577\n",
       "white christmas                             569\n",
       "silent night                                561\n",
       "bye bye blackbird                           556\n",
       "mood indigo                                 555\n",
       "like someone in love                        552\n",
       "the christmas song                          541\n",
       "round midnight                              535\n",
       "it had to be you                            533\n",
       "i only have eyes for you                    529\n",
       "prelude to a kiss                           527\n",
       "Name: song, dtype: int64"
      ]
     },
     "execution_count": 26,
     "metadata": {},
     "output_type": "execute_result"
    }
   ],
   "source": [
    "data.song.value_counts().head(50)"
   ]
  },
  {
   "cell_type": "code",
   "execution_count": 27,
   "metadata": {},
   "outputs": [],
   "source": [
    "from fuzzywuzzy import fuzz"
   ]
  },
  {
   "cell_type": "code",
   "execution_count": 28,
   "metadata": {},
   "outputs": [
    {
     "name": "stderr",
     "output_type": "stream",
     "text": [
      "/usr/local/lib/python3.7/site-packages/ipykernel_launcher.py:2: SettingWithCopyWarning: \n",
      "A value is trying to be set on a copy of a slice from a DataFrame.\n",
      "Try using .loc[row_indexer,col_indexer] = value instead\n",
      "\n",
      "See the caveats in the documentation: https://pandas.pydata.org/pandas-docs/stable/user_guide/indexing.html#returning-a-view-versus-a-copy\n",
      "  \n"
     ]
    }
   ],
   "source": [
    "func = lambda x: fuzz.partial_ratio('teddy bear', x)\n",
    "elvis['ratio'] = elvis.song.apply(func)"
   ]
  },
  {
   "cell_type": "code",
   "execution_count": 29,
   "metadata": {},
   "outputs": [
    {
     "data": {
      "text/plain": [
       "<matplotlib.axes._subplots.AxesSubplot at 0x14d42e710>"
      ]
     },
     "execution_count": 29,
     "metadata": {},
     "output_type": "execute_result"
    },
    {
     "data": {
      "image/png": "[encoded data removed]",
      "text/plain": [
       "<Figure size 432x288 with 1 Axes>"
      ]
     },
     "metadata": {
      "needs_background": "light"
     },
     "output_type": "display_data"
    }
   ],
   "source": [
    "elvis.ratio.hist()"
   ]
  },
  {
   "cell_type": "code",
   "execution_count": 30,
   "metadata": {},
   "outputs": [
    {
     "data": {
      "text/html": [
       "<div>\n",
       "<style scoped>\n",
       "    .dataframe tbody tr th:only-of-type {\n",
       "        vertical-align: middle;\n",
       "    }\n",
       "\n",
       "    .dataframe tbody tr th {\n",
       "        vertical-align: top;\n",
       "    }\n",
       "\n",
       "    .dataframe thead th {\n",
       "        text-align: right;\n",
       "    }\n",
       "</style>\n",
       "<table border=\"1\" class=\"dataframe\">\n",
       "  <thead>\n",
       "    <tr style=\"text-align: right;\">\n",
       "      <th></th>\n",
       "      <th>artist</th>\n",
       "      <th>song</th>\n",
       "      <th>year</th>\n",
       "      <th>lyric</th>\n",
       "      <th>ratio</th>\n",
       "    </tr>\n",
       "  </thead>\n",
       "  <tbody>\n",
       "    <tr>\n",
       "      <th>347672</th>\n",
       "      <td>Elvis Presley</td>\n",
       "      <td>(let me be your) teddy bear</td>\n",
       "      <td>1957.0</td>\n",
       "      <td>None</td>\n",
       "      <td>100</td>\n",
       "    </tr>\n",
       "    <tr>\n",
       "      <th>347747</th>\n",
       "      <td>Elvis Presley</td>\n",
       "      <td>(let me be your) teddy bear</td>\n",
       "      <td>2018.0</td>\n",
       "      <td>None</td>\n",
       "      <td>100</td>\n",
       "    </tr>\n",
       "    <tr>\n",
       "      <th>347960</th>\n",
       "      <td>Elvis Presley</td>\n",
       "      <td>teddy bear</td>\n",
       "      <td>2001.0</td>\n",
       "      <td>None</td>\n",
       "      <td>100</td>\n",
       "    </tr>\n",
       "    <tr>\n",
       "      <th>348297</th>\n",
       "      <td>Elvis Presley</td>\n",
       "      <td>medley: (let me be your) teddy bear/dont be cr...</td>\n",
       "      <td>2016.0</td>\n",
       "      <td>You know I can be found\\nSitting home all alon...</td>\n",
       "      <td>100</td>\n",
       "    </tr>\n",
       "    <tr>\n",
       "      <th>348726</th>\n",
       "      <td>Elvis Presley</td>\n",
       "      <td>(let me be your) teddy bear</td>\n",
       "      <td>2012.0</td>\n",
       "      <td>None</td>\n",
       "      <td>100</td>\n",
       "    </tr>\n",
       "    <tr>\n",
       "      <th>348817</th>\n",
       "      <td>Elvis Presley</td>\n",
       "      <td>(let me be your) teddy bear</td>\n",
       "      <td>2012.0</td>\n",
       "      <td>None</td>\n",
       "      <td>100</td>\n",
       "    </tr>\n",
       "    <tr>\n",
       "      <th>349015</th>\n",
       "      <td>Elvis Presley</td>\n",
       "      <td>(let me be your)teddy bear</td>\n",
       "      <td>2012.0</td>\n",
       "      <td>None</td>\n",
       "      <td>100</td>\n",
       "    </tr>\n",
       "    <tr>\n",
       "      <th>349036</th>\n",
       "      <td>Elvis Presley</td>\n",
       "      <td>(let me be your) teddy bear</td>\n",
       "      <td>2012.0</td>\n",
       "      <td>None</td>\n",
       "      <td>100</td>\n",
       "    </tr>\n",
       "    <tr>\n",
       "      <th>349258</th>\n",
       "      <td>Elvis Presley</td>\n",
       "      <td>teddy bear (let me be your)</td>\n",
       "      <td>1958.0</td>\n",
       "      <td>None</td>\n",
       "      <td>100</td>\n",
       "    </tr>\n",
       "    <tr>\n",
       "      <th>349271</th>\n",
       "      <td>Elvis Presley</td>\n",
       "      <td>(let me be your) teddy bear</td>\n",
       "      <td>1957.0</td>\n",
       "      <td>None</td>\n",
       "      <td>100</td>\n",
       "    </tr>\n",
       "    <tr>\n",
       "      <th>349293</th>\n",
       "      <td>Elvis Presley</td>\n",
       "      <td>(let me be your) teddy bear</td>\n",
       "      <td>2008.0</td>\n",
       "      <td>None</td>\n",
       "      <td>100</td>\n",
       "    </tr>\n",
       "    <tr>\n",
       "      <th>349694</th>\n",
       "      <td>Elvis Presley</td>\n",
       "      <td>teddy bear (singer: otis blackwell)</td>\n",
       "      <td>2006.0</td>\n",
       "      <td>Baby, let me be\\nYour lovin' teddy bear\\nPut a...</td>\n",
       "      <td>100</td>\n",
       "    </tr>\n",
       "    <tr>\n",
       "      <th>350494</th>\n",
       "      <td>Elvis Presley</td>\n",
       "      <td>(let me be your) teddy bear</td>\n",
       "      <td>2001.0</td>\n",
       "      <td>None</td>\n",
       "      <td>100</td>\n",
       "    </tr>\n",
       "    <tr>\n",
       "      <th>350614</th>\n",
       "      <td>Elvis Presley</td>\n",
       "      <td>medley: (let me be your) teddy bear/dont be cruel</td>\n",
       "      <td>1972.0</td>\n",
       "      <td>You know I can be found\\nSitting home all alon...</td>\n",
       "      <td>100</td>\n",
       "    </tr>\n",
       "    <tr>\n",
       "      <th>350722</th>\n",
       "      <td>Elvis Presley</td>\n",
       "      <td>(let me be your) teddy bear</td>\n",
       "      <td>1997.0</td>\n",
       "      <td>None</td>\n",
       "      <td>100</td>\n",
       "    </tr>\n",
       "    <tr>\n",
       "      <th>350823</th>\n",
       "      <td>Elvis Presley</td>\n",
       "      <td>teddy bear (let me be your)</td>\n",
       "      <td>1995.0</td>\n",
       "      <td>None</td>\n",
       "      <td>100</td>\n",
       "    </tr>\n",
       "    <tr>\n",
       "      <th>350931</th>\n",
       "      <td>Elvis Presley</td>\n",
       "      <td>(let me be your) teddy bear</td>\n",
       "      <td>1991.0</td>\n",
       "      <td>None</td>\n",
       "      <td>100</td>\n",
       "    </tr>\n",
       "    <tr>\n",
       "      <th>351118</th>\n",
       "      <td>Elvis Presley</td>\n",
       "      <td>medley: (let me be your) teddy bear/dont be cruel</td>\n",
       "      <td>1972.0</td>\n",
       "      <td>You know I can be found\\nSitting home all alon...</td>\n",
       "      <td>100</td>\n",
       "    </tr>\n",
       "  </tbody>\n",
       "</table>\n",
       "</div>"
      ],
      "text/plain": [
       "               artist                                               song  \\\n",
       "347672  Elvis Presley                        (let me be your) teddy bear   \n",
       "347747  Elvis Presley                        (let me be your) teddy bear   \n",
       "347960  Elvis Presley                                         teddy bear   \n",
       "348297  Elvis Presley  medley: (let me be your) teddy bear/dont be cr...   \n",
       "348726  Elvis Presley                        (let me be your) teddy bear   \n",
       "348817  Elvis Presley                        (let me be your) teddy bear   \n",
       "349015  Elvis Presley                         (let me be your)teddy bear   \n",
       "349036  Elvis Presley                        (let me be your) teddy bear   \n",
       "349258  Elvis Presley                        teddy bear (let me be your)   \n",
       "349271  Elvis Presley                        (let me be your) teddy bear   \n",
       "349293  Elvis Presley                        (let me be your) teddy bear   \n",
       "349694  Elvis Presley                teddy bear (singer: otis blackwell)   \n",
       "350494  Elvis Presley                        (let me be your) teddy bear   \n",
       "350614  Elvis Presley  medley: (let me be your) teddy bear/dont be cruel   \n",
       "350722  Elvis Presley                        (let me be your) teddy bear   \n",
       "350823  Elvis Presley                        teddy bear (let me be your)   \n",
       "350931  Elvis Presley                        (let me be your) teddy bear   \n",
       "351118  Elvis Presley  medley: (let me be your) teddy bear/dont be cruel   \n",
       "\n",
       "          year                                              lyric  ratio  \n",
       "347672  1957.0                                               None    100  \n",
       "347747  2018.0                                               None    100  \n",
       "347960  2001.0                                               None    100  \n",
       "348297  2016.0  You know I can be found\\nSitting home all alon...    100  \n",
       "348726  2012.0                                               None    100  \n",
       "348817  2012.0                                               None    100  \n",
       "349015  2012.0                                               None    100  \n",
       "349036  2012.0                                               None    100  \n",
       "349258  1958.0                                               None    100  \n",
       "349271  1957.0                                               None    100  \n",
       "349293  2008.0                                               None    100  \n",
       "349694  2006.0  Baby, let me be\\nYour lovin' teddy bear\\nPut a...    100  \n",
       "350494  2001.0                                               None    100  \n",
       "350614  1972.0  You know I can be found\\nSitting home all alon...    100  \n",
       "350722  1997.0                                               None    100  \n",
       "350823  1995.0                                               None    100  \n",
       "350931  1991.0                                               None    100  \n",
       "351118  1972.0  You know I can be found\\nSitting home all alon...    100  "
      ]
     },
     "execution_count": 30,
     "metadata": {},
     "output_type": "execute_result"
    }
   ],
   "source": [
    "elvis[elvis.ratio > 80].head(50)"
   ]
  },
  {
   "cell_type": "code",
   "execution_count": null,
   "metadata": {},
   "outputs": [],
   "source": [
    "# from fuzzywuzzy.process import dedupe\n",
    "# test = dedupe(contains_dupes=elvis.song, scorer=fuzz.partial_ratio)"
   ]
  },
  {
   "cell_type": "code",
   "execution_count": 51,
   "metadata": {},
   "outputs": [],
   "source": [
    "lyrics = data.loc[~data.lyric.isnull()]"
   ]
  },
  {
   "cell_type": "code",
   "execution_count": 52,
   "metadata": {},
   "outputs": [
    {
     "data": {
      "text/plain": [
       "186865"
      ]
     },
     "execution_count": 52,
     "metadata": {},
     "output_type": "execute_result"
    }
   ],
   "source": [
    "len(lyrics)"
   ]
  },
  {
   "cell_type": "code",
   "execution_count": 71,
   "metadata": {},
   "outputs": [
    {
     "data": {
      "text/plain": [
       "0"
      ]
     },
     "execution_count": 71,
     "metadata": {},
     "output_type": "execute_result"
    }
   ],
   "source": []
  },
  {
   "cell_type": "code",
   "execution_count": 84,
   "metadata": {},
   "outputs": [],
   "source": [
    "lyrics_subset = lyrics.sample(100000, replace=False)"
   ]
  },
  {
   "cell_type": "code",
   "execution_count": null,
   "metadata": {},
   "outputs": [],
   "source": []
  },
  {
   "cell_type": "code",
   "execution_count": 85,
   "metadata": {},
   "outputs": [],
   "source": [
    "import nltk"
   ]
  },
  {
   "cell_type": "code",
   "execution_count": null,
   "metadata": {},
   "outputs": [],
   "source": [
    "tokens = lyrics_subset.lyric.apply(nltk.word_tokenize)\n",
    "# lyrics_subset.head()"
   ]
  },
  {
   "cell_type": "code",
   "execution_count": 65,
   "metadata": {},
   "outputs": [
    {
     "data": {
      "text/plain": [
       "843394     [In, the, brightest, hour, of, my, darkest, da...\n",
       "272728     [You, got, the, look, of, a, howlin, ', wolf, ...\n",
       "676988     [You, 're, my, thrill, You, do, something, to,...\n",
       "825436     [You, know, that, feeling, you, get, You, feel...\n",
       "637924     [The, show, is, over, ,, you, got, to, go, hom...\n",
       "                                 ...                        \n",
       "1030989    [Ooh, yeah, ,, you, better, come, on, into, my...\n",
       "177617     [I, can, barely, see, your, sneakers, You, say...\n",
       "90586      [(, Run, ,, run, ,, run, ,, run, ,, run, ,, ru...\n",
       "489994     [i, 'm, alone, again, and, i, 'm, thinking, ab...\n",
       "1142894    [Anytime, at, all, ,, Anytime, at, all, ,, Any...\n",
       "Name: lyric, Length: 10000, dtype: object"
      ]
     },
     "execution_count": 65,
     "metadata": {},
     "output_type": "execute_result"
    }
   ],
   "source": [
    "tokens"
   ]
  },
  {
   "cell_type": "code",
   "execution_count": 79,
   "metadata": {},
   "outputs": [
    {
     "data": {
      "text/plain": [
       "<matplotlib.axes._subplots.AxesSubplot at 0x18feb61d0>"
      ]
     },
     "execution_count": 79,
     "metadata": {},
     "output_type": "execute_result"
    },
    {
     "data": {
      "image/png": "[encoded data removed]",
      "text/plain": [
       "<Figure size 432x288 with 1 Axes>"
      ]
     },
     "metadata": {
      "needs_background": "light"
     },
     "output_type": "display_data"
    }
   ],
   "source": [
    "tokens.apply(len).hist(bins=100)"
   ]
  },
  {
   "cell_type": "code",
   "execution_count": 73,
   "metadata": {},
   "outputs": [
    {
     "data": {
      "text/plain": [
       "1"
      ]
     },
     "execution_count": 73,
     "metadata": {},
     "output_type": "execute_result"
    }
   ],
   "source": [
    "tokens.apply(len).min()"
   ]
  },
  {
   "cell_type": "code",
   "execution_count": 83,
   "metadata": {},
   "outputs": [
    {
     "data": {
      "text/plain": [
       "1098729           [[, Instrumental, ]]\n",
       "377718            [[, Instrumental, ]]\n",
       "435485            [[, instrumental, ]]\n",
       "77586      [Boo-tay, Boo-tay, Boo-tay]\n",
       "55662             [[, Instrumental, ]]\n",
       "780847                    [You, weird]\n",
       "874018            [(, Instrumental, )]\n",
       "639084            [[, Instrumental, ]]\n",
       "965458            [[, Instrumental, ]]\n",
       "275797              [island, of, love]\n",
       "1060682                   [(, Scat, )]\n",
       "199962                      [lalalala]\n",
       "1223691     [It, is, an, instrumental]\n",
       "107502            [[, Instrumental, ]]\n",
       "1204591           [[, Instrumental, ]]\n",
       "486772            [[, Instrumental, ]]\n",
       "17095             [[, Instrumental, ]]\n",
       "192559            [[, Instrumental, ]]\n",
       "55655             [[, Instrumental, ]]\n",
       "Name: lyric, dtype: object"
      ]
     },
     "execution_count": 83,
     "metadata": {},
     "output_type": "execute_result"
    }
   ],
   "source": [
    "tokens[tokens.apply(len) < 5]"
   ]
  },
  {
   "cell_type": "code",
   "execution_count": null,
   "metadata": {},
   "outputs": [],
   "source": []
  }
 ],
 "metadata": {
  "kernelspec": {
   "display_name": "Python 3",
   "language": "python",
   "name": "python3"
  },
  "language_info": {
   "codemirror_mode": {
    "name": "ipython",
    "version": 3
   },
   "file_extension": ".py",
   "mimetype": "text/x-python",
   "name": "python",
   "nbconvert_exporter": "python",
   "pygments_lexer": "ipython3",
   "version": "3.7.5"
  }
 },
 "nbformat": 4,
 "nbformat_minor": 2
}
